{
  "nbformat": 4,
  "nbformat_minor": 0,
  "metadata": {
    "colab": {
      "provenance": []
    },
    "kernelspec": {
      "name": "python3",
      "display_name": "Python 3"
    },
    "language_info": {
      "name": "python"
    }
  },
  "cells": [
    {
      "cell_type": "markdown",
      "source": [
        "Question 1"
      ],
      "metadata": {
        "id": "wgwt58rAj_us"
      }
    },
    {
      "cell_type": "code",
      "execution_count": 2,
      "metadata": {
        "colab": {
          "base_uri": "https://localhost:8080/"
        },
        "id": "OBt-n6Uzjv3o",
        "outputId": "8524db7c-982e-42e3-f847-69fbb7520acd"
      },
      "outputs": [
        {
          "output_type": "stream",
          "name": "stdout",
          "text": [
            "Sorted list:  [19, 19, 20, 22, 24, 24, 24, 25, 25, 26]\n",
            "Min and Max age: 19  and  26\n",
            "New list:  [19, 19, 20, 22, 24, 24, 24, 25, 25, 26, 19, 26]\n",
            "Median:  24.0\n",
            "Mean:  22.75\n",
            "Range:  7\n"
          ]
        }
      ],
      "source": [
        "import numpy as np\n",
        "ages = [19, 22, 19, 24, 20, 25, 26, 24, 25, 24]\n",
        "ages.sort()\n",
        "print('Sorted list: ',ages)\n",
        "minimum = np.min(ages)\n",
        "maximum = np.max(ages)\n",
        "print('Min and Max age:',minimum,' and ',maximum)\n",
        "ages.extend([minimum,maximum])\n",
        "print('New list: ',ages)\n",
        "median = np.median(ages)\n",
        "print('Median: ',median)\n",
        "mean = np.mean(ages)\n",
        "print('Mean: ', mean)\n",
        "range = maximum - minimum\n",
        "print('Range: ', range)"
      ]
    },
    {
      "cell_type": "markdown",
      "source": [
        "Question 2"
      ],
      "metadata": {
        "id": "he1BL6YfYTBk"
      }
    },
    {
      "cell_type": "code",
      "source": [
        "dog = {}\n",
        "dog['name'] = 'Husky'\n",
        "dog['color'] = 'White'\n",
        "dog['breed'] = 'German Shepherd'\n",
        "dog['legs'] = 4\n",
        "dog['age'] = 7\n",
        "print('Dog: ',dog)\n",
        "student = {}\n",
        "student['first_name'] = 'Vennela'\n",
        "student['last_name'] = 'Madamshetty'\n",
        "student['gender'] = 'Female'\n",
        "student['age'] = 23\n",
        "student['marital_status'] = 'Single'\n",
        "student['skills'] = ['Python', 'Java']\n",
        "student['country'] = 'India'\n",
        "student['city'] = 'Hyderabad'\n",
        "student['address'] = 'Kisan Nagar'\n",
        "print('Student: ',student)\n",
        "print('Length of student dict: ',len(student))\n",
        "print('Skills and datatype: ',student['skills'],type(student['skills']))\n",
        "student['skills'].extend(['Spark', 'Hive'])\n",
        "print('Keys: ', list(student.keys()))\n",
        "print('Values: ',list(student.values()))"
      ],
      "metadata": {
        "colab": {
          "base_uri": "https://localhost:8080/"
        },
        "id": "vglY6gPQNlx-",
        "outputId": "72281902-ec10-4f56-e3b9-cea4d631eb98"
      },
      "execution_count": 3,
      "outputs": [
        {
          "output_type": "stream",
          "name": "stdout",
          "text": [
            "Dog:  {'name': 'Husky', 'color': 'White', 'breed': 'German Shepherd', 'legs': 4, 'age': 7}\n",
            "Student:  {'first_name': 'Vennela', 'last_name': 'Madamshetty', 'gender': 'Female', 'age': 23, 'marital_status': 'Single', 'skills': ['Python', 'Java'], 'country': 'India', 'city': 'Hyderabad', 'address': 'Kisan Nagar'}\n",
            "Length of student dict:  9\n",
            "Skills and datatype:  ['Python', 'Java'] <class 'list'>\n",
            "Keys:  ['first_name', 'last_name', 'gender', 'age', 'marital_status', 'skills', 'country', 'city', 'address']\n",
            "Values:  ['Vennela', 'Madamshetty', 'Female', 23, 'Single', ['Python', 'Java', 'Spark', 'Hive'], 'India', 'Hyderabad', 'Kisan Nagar']\n"
          ]
        }
      ]
    },
    {
      "cell_type": "markdown",
      "source": [
        "Question 3"
      ],
      "metadata": {
        "id": "Ft8p5OvnYWd2"
      }
    },
    {
      "cell_type": "code",
      "source": [
        "sisters = ('Divya', 'Deepthi', 'Bhavya', 'Spandana')\n",
        "brothers = ('Pranay', 'Vishnu')\n",
        "siblings = sisters + brothers\n",
        "print('Siblings:',siblings)\n",
        "print('I have',len(siblings),'siblings')\n",
        "family_members = siblings + ('Chandu', 'Bhagya')\n",
        "print('Family Members:', family_members)"
      ],
      "metadata": {
        "colab": {
          "base_uri": "https://localhost:8080/"
        },
        "id": "CSMdseOKW21y",
        "outputId": "7928c486-6f4a-4208-e12a-fd1cd0bbc6c2"
      },
      "execution_count": 4,
      "outputs": [
        {
          "output_type": "stream",
          "name": "stdout",
          "text": [
            "Siblings: ('Divya', 'Deepthi', 'Bhavya', 'Spandana', 'Pranay', 'Vishnu')\n",
            "I have 6 siblings\n",
            "Family Members: ('Divya', 'Deepthi', 'Bhavya', 'Spandana', 'Pranay', 'Vishnu', 'Chandu', 'Bhagya')\n"
          ]
        }
      ]
    },
    {
      "cell_type": "markdown",
      "source": [
        "Question 4"
      ],
      "metadata": {
        "id": "H8CwzYrwZotX"
      }
    },
    {
      "cell_type": "code",
      "source": [
        "it_companies = {'Facebook', 'Google', 'Microsoft', 'Apple', 'IBM', 'Oracle', 'Amazon'}\n",
        "A = {19, 22, 24, 20, 25, 26}\n",
        "B = {19, 22, 20, 25, 26, 24, 28, 27}\n",
        "age = [22, 19, 24, 25, 26, 24, 25, 24]\n",
        "print('Length of it_companies:',len(it_companies))\n",
        "it_companies.add('Twitter')\n",
        "it_companies.update({'Walmart','TCS','Linkedin'})\n",
        "it_companies.remove('Oracle')\n",
        "try:\n",
        "  it_companies.remove('Oracle')\n",
        "except Exception as e:\n",
        "  print('Working of remove for a missing value:',e)\n",
        "  print('Working of discard for a missing value')\n",
        "  it_companies.discard('Oracle')\n",
        "A.update(B)\n",
        "C = A.intersection(B)\n",
        "print('A intersection B:',C)\n",
        "print('Is A subset of B:',A.issubset(B))\n",
        "print('Are A and B disjoint sets:',A.isdisjoint(B))\n",
        "print('Joining of A with B:',A.union(B))\n",
        "print('Joining of B with A:',B.union(A))\n",
        "print('Symmetric difference between A and B:', A.symmetric_difference(B))\n",
        "A.clear()\n",
        "B.clear()\n",
        "ages = set(ages)\n",
        "if(len(ages) > len(age)):\n",
        "  print('Length of set is greater than that of list')\n",
        "elif(len(ages) < len(age)):\n",
        "  print('Length of list is greater than that of set')\n",
        "else:\n",
        "  print('Length of the list and set are equal')"
      ],
      "metadata": {
        "colab": {
          "base_uri": "https://localhost:8080/"
        },
        "id": "5bM989sSZueU",
        "outputId": "b0ab63c4-6b50-4d9d-c832-0ea9cc6861ed"
      },
      "execution_count": 5,
      "outputs": [
        {
          "output_type": "stream",
          "name": "stdout",
          "text": [
            "Length of it_companies: 7\n",
            "Working of remove for a missing value: 'Oracle'\n",
            "Working of discard for a missing value\n",
            "A intersection B: {19, 20, 22, 24, 25, 26, 27, 28}\n",
            "Is A subset of B: True\n",
            "Are A and B disjoint sets: False\n",
            "Joining of A with B: {19, 20, 22, 24, 25, 26, 27, 28}\n",
            "Joining of B with A: {19, 20, 22, 24, 25, 26, 27, 28}\n",
            "Symmetric difference between A and B: set()\n",
            "Length of list is greater than that of set\n"
          ]
        }
      ]
    },
    {
      "cell_type": "markdown",
      "source": [
        "Question 5"
      ],
      "metadata": {
        "id": "Oe0Qy3oc9ECE"
      }
    },
    {
      "cell_type": "code",
      "source": [
        "radius = 30\n",
        "_area_of_circle_ = 3.14*radius**2\n",
        "_circum_of_circle_ = 2*3.14*radius\n",
        "print('Area and circumference of circle are:',_area_of_circle_,'and',_circum_of_circle_)\n",
        "rad = float(input('Enter radius of circle:'))\n",
        "print('Area of circle with radius',rad,'is',round(3.14*rad**2,2))"
      ],
      "metadata": {
        "colab": {
          "base_uri": "https://localhost:8080/"
        },
        "id": "iefecsol9mCc",
        "outputId": "8671088e-1185-42c9-9080-3c737f85cff2"
      },
      "execution_count": 8,
      "outputs": [
        {
          "output_type": "stream",
          "name": "stdout",
          "text": [
            "Area and circumference of circle are: 2826.0 and 188.4\n",
            "Enter radius of circle:23.6\n",
            "Area of circle with radius 23.6 is 1748.85\n"
          ]
        }
      ]
    },
    {
      "cell_type": "markdown",
      "source": [
        "Question 6"
      ],
      "metadata": {
        "id": "abzJTcNG-gKv"
      }
    },
    {
      "cell_type": "code",
      "source": [
        "sentence = 'I am a teacher and I love to inspire and teach people'\n",
        "unique_words = set(sentence.split())\n",
        "print('There are',len(unique_words),'unique words used in the sentence and they are',unique_words)"
      ],
      "metadata": {
        "colab": {
          "base_uri": "https://localhost:8080/"
        },
        "id": "o95pBWID-fPB",
        "outputId": "1df8027e-fe94-4a96-b06c-a60746df0cb2"
      },
      "execution_count": 9,
      "outputs": [
        {
          "output_type": "stream",
          "name": "stdout",
          "text": [
            "There are 10 unique words used in the sentence and they are {'teacher', 'am', 'and', 'people', 'I', 'love', 'to', 'teach', 'inspire', 'a'}\n"
          ]
        }
      ]
    },
    {
      "cell_type": "markdown",
      "source": [
        "Question 7"
      ],
      "metadata": {
        "id": "S0EE_9su_L42"
      }
    },
    {
      "cell_type": "code",
      "source": [
        "print('Name\\t\\tAge\\tCountry\\t  City')\n",
        "print('Asabeneh\\t250\\tFinland\\t  Helsinki')"
      ],
      "metadata": {
        "colab": {
          "base_uri": "https://localhost:8080/"
        },
        "id": "NyuPhsVI_N7H",
        "outputId": "0464b8b3-f22c-4aac-8f72-941086e0cbf1"
      },
      "execution_count": 10,
      "outputs": [
        {
          "output_type": "stream",
          "name": "stdout",
          "text": [
            "Name\t\tAge\tCountry\t  City\n",
            "Asabeneh\t250\tFinland\t  Helsinki\n"
          ]
        }
      ]
    },
    {
      "cell_type": "markdown",
      "source": [
        "Question 8"
      ],
      "metadata": {
        "id": "OjwDWSOeAEqC"
      }
    },
    {
      "cell_type": "code",
      "source": [
        "radius = 10\n",
        "area = 3.14 * radius ** 2\n",
        "print('\\\"The area of a circle with radius',radius,'is',int(area),'meters square.\\\"')"
      ],
      "metadata": {
        "colab": {
          "base_uri": "https://localhost:8080/"
        },
        "id": "TDy2Ha1XAGkG",
        "outputId": "97b1f663-647c-451c-ff05-5829b277c4dd"
      },
      "execution_count": 11,
      "outputs": [
        {
          "output_type": "stream",
          "name": "stdout",
          "text": [
            "\"The area of a circle with radius 10 is 314 meters square.\"\n"
          ]
        }
      ]
    },
    {
      "cell_type": "markdown",
      "source": [
        "Question 9"
      ],
      "metadata": {
        "id": "6sWRSYTPA0Cl"
      }
    },
    {
      "cell_type": "code",
      "source": [
        "N = int(input('Enter no. of students:'))\n",
        "print('Enter weights(lbs.) of',N,'students separated by spaces:')\n",
        "L1 = list(map(int,input().split()))\n",
        "L2 = []\n",
        "for i in L1:\n",
        "  L2.append(round(i*0.45,2))\n",
        "print(L2)"
      ],
      "metadata": {
        "colab": {
          "base_uri": "https://localhost:8080/"
        },
        "id": "qjIKvvdGA1qi",
        "outputId": "937f104a-f42f-4577-8137-0ff2453808fe"
      },
      "execution_count": 12,
      "outputs": [
        {
          "output_type": "stream",
          "name": "stdout",
          "text": [
            "Enter no. of students:4\n",
            "Enter weights(lbs.) of 4 students separated by spaces:\n",
            "150 155 145 148\n",
            "[67.5, 69.75, 65.25, 66.6]\n"
          ]
        }
      ]
    }
  ]
}